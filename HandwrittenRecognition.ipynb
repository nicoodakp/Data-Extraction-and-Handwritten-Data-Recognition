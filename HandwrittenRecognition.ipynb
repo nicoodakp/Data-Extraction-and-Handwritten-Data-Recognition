{
  "nbformat": 4,
  "nbformat_minor": 0,
  "metadata": {
    "colab": {
      "name": "HandwrittenRecognition",
      "provenance": [],
      "machine_shape": "hm",
      "include_colab_link": true
    },
    "kernelspec": {
      "name": "python3",
      "display_name": "Python 3"
    },
    "accelerator": "GPU"
  },
  "cells": [
    {
      "cell_type": "markdown",
      "metadata": {
        "id": "view-in-github",
        "colab_type": "text"
      },
      "source": [
        "<a href=\"https://colab.research.google.com/github/ronak0001/Data-Extraction-and-Handwritten-Data-Recognition/blob/master/HandwrittenRecognition.ipynb\" target=\"_parent\"><img src=\"https://colab.research.google.com/assets/colab-badge.svg\" alt=\"Open In Colab\"/></a>"
      ]
    },
    {
      "cell_type": "code",
      "metadata": {
        "id": "K4NI1HT6bohW",
        "colab_type": "code",
        "colab": {}
      },
      "source": [
        "!pip install kaggle"
      ],
      "execution_count": 0,
      "outputs": []
    },
    {
      "cell_type": "code",
      "metadata": {
        "id": "gw5168mLcwoQ",
        "colab_type": "code",
        "colab": {}
      },
      "source": [
        "import json\n",
        "\n",
        "token = {\"username\":\"your_username\",\"key\":\"your_key\"}\n",
        "\n",
        "with open(\"/root/.kaggle/kaggle.json\", \"w\") as file:\n",
        "  json.dump(token, file)"
      ],
      "execution_count": 0,
      "outputs": []
    },
    {
      "cell_type": "code",
      "metadata": {
        "id": "zxNFwB5plzZ0",
        "colab_type": "code",
        "colab": {}
      },
      "source": [
        "!chmod 600 /root/.kaggle/kaggle.json"
      ],
      "execution_count": 0,
      "outputs": []
    },
    {
      "cell_type": "code",
      "metadata": {
        "id": "MqtcHrkcl-DL",
        "colab_type": "code",
        "colab": {}
      },
      "source": [
        "!kaggle datasets download -d crawford/emnist"
      ],
      "execution_count": 0,
      "outputs": []
    },
    {
      "cell_type": "code",
      "metadata": {
        "id": "SGiiad0acvq0",
        "colab_type": "code",
        "colab": {}
      },
      "source": [
        "!unzip emnist.zip"
      ],
      "execution_count": 0,
      "outputs": []
    },
    {
      "cell_type": "code",
      "metadata": {
        "id": "EvkMXguXnQsJ",
        "colab_type": "code",
        "colab": {}
      },
      "source": [
        "\n",
        "import numpy as np\n",
        "from numpy import genfromtxt\n",
        "import matplotlib.pyplot as plt\n"
      ],
      "execution_count": 0,
      "outputs": []
    },
    {
      "cell_type": "code",
      "metadata": {
        "id": "EygUdbuYnyhN",
        "colab_type": "code",
        "colab": {}
      },
      "source": [
        "digits_train_file = 'emnist-digits-train.csv'\n",
        "digits_test_file = 'emnist-digits-test.csv'\n",
        "letters_train_file = 'emnist-letters-train.csv'\n",
        "letters_test_file = 'emnist-letters-test.csv'\n",
        "\n",
        "# Read Dataset\n",
        "letters_test = genfromtxt(letters_test_file, delimiter=',')\n",
        "letters_train = genfromtxt(letters_train_file, delimiter=',')\n",
        "digits_test = genfromtxt(digits_test_file, delimiter=',')\n",
        "digits_train = genfromtxt(digits_train_file, delimiter=',')\n",
        "\n",
        "# Save Data\n",
        "np.save('letters_test.npy', letters_test)\n",
        "np.save('letters_train.npy', letters_train)\n",
        "np.save('digits_test.npy', digits_test)\n",
        "np.save('digits_train.npy', digits_train)\n",
        "\n",
        "# Load Data\n",
        "digits_test = np.load('digits_test.npy')\n",
        "plt.figure()\n",
        "for i in range(0,20):\n",
        "    print(digits_test[i, 0])\n",
        "    plt.subplot(4,5,(i+1))\n",
        "    plt.imshow(digits_test[i, 1:786].reshape(28,28))\n",
        "    plt.grid(False)\n",
        "\n",
        "plt.show()"
      ],
      "execution_count": 0,
      "outputs": []
    },
    {
      "cell_type": "code",
      "metadata": {
        "id": "ZC8CV26inzLk",
        "colab_type": "code",
        "colab": {}
      },
      "source": [
        "import numpy as np\n",
        "import matplotlib.pyplot as plt\n",
        "from keras import Sequential\n",
        "from keras.activations import relu, softmax\n",
        "from keras.layers import Flatten, Dense, Dropout\n",
        "from keras.datasets import mnist\n",
        "\n",
        "\n",
        "letters_train = np.load('letters_train.npy')\n",
        "letters_test = np.load('letters_test.npy\n",
        "\"\"\"\"\n",
        "(train_data, train_labels), (test_data, test_labels) = mnist.load_data()\n",
        "len = letters_train.shape[0]\n",
        "\n",
        "for i in range(0, len):\n",
        "    train_data = np.append(train_data, [letters_train[i, 1:786].reshape(28, 28)], axis=0)\n",
        "    train_labels = np.append(train_labels, [(letters_train[i, 0]+9)], axis=0)\n",
        "print(train_data.shape)\n",
        "print(train_labels.shape)\n",
        "\n",
        "for i in range(0, letters_test.shape[0]):\n",
        "    test_data = np.append(test_data, [letters_test[i, 1:786].reshape(28, 28)], axis=0)\n",
        "    test_labels = np.append(test_labels, [(letters_test[i, 0]+9)], axis=0)\n",
        "print(test_data.shape)\n",
        "print(test_labels.shape)\n",
        "\"\"\""
      ],
      "execution_count": 0,
      "outputs": []
    },
    {
      "cell_type": "code",
      "metadata": {
        "id": "iuaFnjGbE9hD",
        "colab_type": "code",
        "colab": {}
      },
      "source": [
        "import numpy as np\n",
        "import pandas as pd\n",
        "import matplotlib.pyplot as plt\n",
        "\n",
        "from sklearn.model_selection import train_test_split\n",
        "import cv2\n",
        "\n",
        "#keras\n",
        "from keras.models import Sequential\n",
        "from keras.layers import Dense, Dropout, Flatten\n",
        "from keras.layers import Conv2D, MaxPooling2D\n",
        "from keras.utils import np_utils\n",
        "import sklearn.metrics as metrics\n",
        "\n",
        "train = pd.read_csv(\"emnist-balanced-train.csv\",delimiter = ',')\n",
        "test = pd.read_csv(\"emnist-balanced-test.csv\", delimiter = ',')\n",
        "mapp = pd.read_csv(\"emnist-balanced-mapping.txt\", delimiter = ' ', \\\n",
        "                   index_col=0, header=None, squeeze=True)\n",
        "\n",
        "print(\"Train: %s, Test: %s, Map: %s\" %(train.shape, test.shape, mapp.shape))"
      ],
      "execution_count": 0,
      "outputs": []
    },
    {
      "cell_type": "code",
      "metadata": {
        "id": "PWEeV_1uGR4R",
        "colab_type": "code",
        "colab": {}
      },
      "source": [
        "# Constants\n",
        "HEIGHT = 28\n",
        "WIDTH = 28\n",
        "\n",
        "# Split x and y\n",
        "train_x = train.iloc[:,1:]\n",
        "train_y = train.iloc[:,0]\n",
        "del train\n",
        "\n",
        "test_x = test.iloc[:,1:]\n",
        "test_y = test.iloc[:,0]\n",
        "del test"
      ],
      "execution_count": 0,
      "outputs": []
    },
    {
      "cell_type": "code",
      "metadata": {
        "id": "n3UU-T0EGeoD",
        "colab_type": "code",
        "colab": {}
      },
      "source": [
        "print(train_x.shape,train_y.shape,test_x.shape,test_y.shape)"
      ],
      "execution_count": 0,
      "outputs": []
    },
    {
      "cell_type": "code",
      "metadata": {
        "id": "YPaspGiTGySo",
        "colab_type": "code",
        "colab": {}
      },
      "source": [
        "def rotate(image):\n",
        "    image = image.reshape([HEIGHT, WIDTH])\n",
        "    image = np.fliplr(image)\n",
        "    image = np.rot90(image)\n",
        "    return image"
      ],
      "execution_count": 0,
      "outputs": []
    },
    {
      "cell_type": "code",
      "metadata": {
        "id": "ks1RoA9SGzyQ",
        "colab_type": "code",
        "colab": {}
      },
      "source": [
        "# Flip and rotate image\n",
        "train_x = np.asarray(train_x)\n",
        "train_x = np.apply_along_axis(rotate, 1, train_x)\n",
        "print (\"train_x:\",train_x.shape)\n",
        "\n",
        "test_x = np.asarray(test_x)\n",
        "test_x = np.apply_along_axis(rotate, 1, test_x)\n",
        "print (\"test_x:\",test_x.shape)"
      ],
      "execution_count": 0,
      "outputs": []
    },
    {
      "cell_type": "code",
      "metadata": {
        "id": "JkIfoasW5QY3",
        "colab_type": "code",
        "colab": {}
      },
      "source": [
        "# Normalise\n",
        "train_x = train_x.astype('float32')\n",
        "train_x /= 255\n",
        "test_x = test_x.astype('float32')\n",
        "test_x /= 255"
      ],
      "execution_count": 0,
      "outputs": []
    },
    {
      "cell_type": "code",
      "metadata": {
        "id": "cj2fm1vR1Vta",
        "colab_type": "code",
        "colab": {}
      },
      "source": [
        " # plot image\n",
        "#  plt.imshow(train_x[1], cmap=plt.get_cmap('gray'))\n",
        "# plot image\n",
        "for i in range(100, 109):\n",
        "    plt.subplot(330 + (i+1))\n",
        "    plt.imshow(train_x[i], cmap=plt.get_cmap('gray'))\n",
        "    plt.title(chr(mapp[train_y[i]]))"
      ],
      "execution_count": 0,
      "outputs": []
    },
    {
      "cell_type": "code",
      "metadata": {
        "id": "kk5HoR7AJ1Pm",
        "colab_type": "code",
        "colab": {}
      },
      "source": [
        "# One hot encoding\n",
        "train_y = np_utils.to_categorical(train_y, num_classes)\n",
        "test_y = np_utils.to_categorical(test_y, num_classes)\n",
        "print(\"train_y: \", train_y.shape)\n",
        "print(\"test_y: \", test_y.shape)"
      ],
      "execution_count": 0,
      "outputs": []
    },
    {
      "cell_type": "code",
      "metadata": {
        "id": "AedNbuMUJ7Vv",
        "colab_type": "code",
        "colab": {}
      },
      "source": [
        "# Reshape image for CNN\n",
        "train_x = train_x.reshape(-1, HEIGHT, WIDTH, 1)\n",
        "test_x = test_x.reshape(-1, HEIGHT, WIDTH, 1)\n"
      ],
      "execution_count": 0,
      "outputs": []
    },
    {
      "cell_type": "code",
      "metadata": {
        "id": "sdf4VXsIJ92v",
        "colab_type": "code",
        "colab": {}
      },
      "source": [
        "# partition to train and val\n",
        "train_x, val_x, train_y, val_y = train_test_split(train_x, train_y, test_size= 0.10, random_state=7)"
      ],
      "execution_count": 0,
      "outputs": []
    },
    {
      "cell_type": "code",
      "metadata": {
        "id": "_-jZnvkuKLOn",
        "colab_type": "code",
        "colab": {}
      },
      "source": [
        "# Building model\n",
        "# ((Si - Fi + 2P)/S) + 1\n",
        "model = Sequential()\n",
        "\n",
        "model.add(Conv2D(filters=128, kernel_size=(5,5), padding = 'same', activation='relu',\\\n",
        "                 input_shape=(HEIGHT, WIDTH,1)))\n",
        "model.add(MaxPooling2D(pool_size=(2,2), strides=(2,2)))\n",
        "model.add(Conv2D(filters=64, kernel_size=(3,3) , padding = 'same', activation='relu'))\n",
        "model.add(MaxPooling2D(pool_size=(2,2)))\n",
        "\n",
        "model.add(Flatten())\n",
        "model.add(Dense(units=128, activation='relu'))\n",
        "model.add(Dropout(.5))\n",
        "model.add(Dense(units=num_classes, activation='softmax'))\n",
        "\n",
        "model.summary()"
      ],
      "execution_count": 0,
      "outputs": []
    },
    {
      "cell_type": "code",
      "metadata": {
        "id": "OuWpTvzzKPhs",
        "colab_type": "code",
        "colab": {}
      },
      "source": [
        "model.compile(loss='categorical_crossentropy', optimizer='adam', metrics=['accuracy'])"
      ],
      "execution_count": 0,
      "outputs": []
    },
    {
      "cell_type": "code",
      "metadata": {
        "id": "RzIbIYswKTBu",
        "colab_type": "code",
        "colab": {}
      },
      "source": [
        "history = model.fit(train_x, train_y, epochs=10, batch_size=512, verbose=1, \\\n",
        "                    validation_data=(val_x, val_y))"
      ],
      "execution_count": 0,
      "outputs": []
    },
    {
      "cell_type": "code",
      "metadata": {
        "id": "u7-qA_fnKTm5",
        "colab_type": "code",
        "colab": {}
      },
      "source": [
        "model.save('terminators.hdf5')"
      ],
      "execution_count": 0,
      "outputs": []
    },
    {
      "cell_type": "code",
      "metadata": {
        "id": "7USyRkW8N3f5",
        "colab_type": "code",
        "colab": {}
      },
      "source": [
        "def plot_accuracy(history,title):\n",
        "    plt.title(title)\n",
        "    plt.plot(history.history['acc'])\n",
        "    plt.plot(history.history['val_acc'])\n",
        "    plt.ylabel('accuracy')\n",
        "    plt.xlabel('epoch')\n",
        "    plt.legend(['train_accuracy', 'validation_accuracy'], loc='best')\n",
        "    plt.show()\n",
        "def plot_loss(history,title):\n",
        "    plt.title(title)\n",
        "    plt.plot(history.history['loss'])\n",
        "    plt.plot(history.history['val_loss'])\n",
        "    plt.ylabel('loss')\n",
        "    plt.xlabel('epoch')\n",
        "    plt.legend(['train_loss', 'validation_loss'], loc='best')\n",
        "    plt.show()\n",
        "    \n",
        "    \n",
        "def predict_class(model, images, show = True):\n",
        "  for img in images:\n",
        "    img = image.load_img(img, target_size=(28, 28))\n",
        "    img = image.img_to_array(img)                    \n",
        "    img = np.expand_dims(img, axis=0)         \n",
        "    img /= 255.                                      \n",
        "\n",
        "    pred = model.predict(img)\n",
        "    index = np.argmax(pred)\n",
        "    food_list.sort()\n",
        "    pred_value = food_list[index]\n",
        "    if show:\n",
        "        plt.imshow(img[0])                           \n",
        "        plt.axis('off')\n",
        "        plt.title(pred_value)\n",
        "        plt.show()"
      ],
      "execution_count": 0,
      "outputs": []
    },
    {
      "cell_type": "code",
      "metadata": {
        "id": "h2D7kUwrOHE9",
        "colab_type": "code",
        "colab": {}
      },
      "source": [
        "plot_accuracy(history,'Terminators')\n",
        "plot_loss(history,'Terminators')\n"
      ],
      "execution_count": 0,
      "outputs": []
    },
    {
      "cell_type": "code",
      "metadata": {
        "id": "pKCobNJjOPzU",
        "colab_type": "code",
        "colab": {}
      },
      "source": [
        "%%time\n",
        "# Loading the best saved model to make predictions\n",
        "from tensorflow.keras.models import load_model\n",
        "#from tensorflow.keras import models\n",
        "#K.clear_session()\n",
        "model_best = load_model('terminators.hdf5',compile = False)"
      ],
      "execution_count": 0,
      "outputs": []
    },
    {
      "cell_type": "code",
      "metadata": {
        "id": "lZRNPTe2OaPP",
        "colab_type": "code",
        "colab": {}
      },
      "source": [
        "print(test_x.shape)"
      ],
      "execution_count": 0,
      "outputs": []
    },
    {
      "cell_type": "code",
      "metadata": {
        "id": "hvb7ezqLQKvg",
        "colab_type": "code",
        "colab": {}
      },
      "source": [
        "y_pred = model.predict(test_x)\n",
        "\n",
        "y_pred = (y_pred > 0.5)\n"
      ],
      "execution_count": 0,
      "outputs": []
    },
    {
      "cell_type": "code",
      "metadata": {
        "id": "REieqwPEUflI",
        "colab_type": "code",
        "colab": {}
      },
      "source": [
        "print(test_y.shape)"
      ],
      "execution_count": 0,
      "outputs": []
    },
    {
      "cell_type": "code",
      "metadata": {
        "id": "IR87_sSiUDyH",
        "colab_type": "code",
        "colab": {}
      },
      "source": [
        "print(y_pred[1])\n",
        "print(test_y[1])\n",
        "\n",
        "print(y_pred[5])\n",
        "print(test_y[5])"
      ],
      "execution_count": 0,
      "outputs": []
    },
    {
      "cell_type": "code",
      "metadata": {
        "id": "RdEvcz9hjZV1",
        "colab_type": "code",
        "colab": {}
      },
      "source": [
        "img = test_x[1].reshape(1, 28, 28, 1)\n",
        "img = img.reshape(1, 28, 28, 1)\n",
        "\t# prepare pixel data\n",
        "img = img.astype('float32')\n",
        "img = img / 255.0\n",
        "\n",
        "print(img.shape)\n",
        "plt.imshow(img)"
      ],
      "execution_count": 0,
      "outputs": []
    },
    {
      "cell_type": "code",
      "metadata": {
        "id": "NZryFdg0kl5R",
        "colab_type": "code",
        "colab": {}
      },
      "source": [
        "!wget -O seven.jpg https://3qeqpr26caki16dnhd19sv6by6v-wpengine.netdna-ssl.com/wp-content/uploads/2019/02/sample_image.png\n",
        "  \n"
      ],
      "execution_count": 0,
      "outputs": []
    },
    {
      "cell_type": "code",
      "metadata": {
        "id": "4EBVs8CoQUfk",
        "colab_type": "code",
        "colab": {}
      },
      "source": [
        "# make a prediction for a new image.\n",
        "from keras.preprocessing.image import load_img\n",
        "from keras.preprocessing.image import img_to_array\n",
        "from keras.models import load_model\n",
        "\n",
        "# load and prepare the image\n",
        "img = cv2.imread('seven.jpg')\n",
        "#img = np.asarray(img)\n",
        "#img.astype('float32')\n",
        "plt.imshow(img)\n",
        "plt.show()\n",
        "def load_image(filename):\n",
        "\t# load the image\n",
        "\timg = load_img(filename, grayscale=True, target_size=(28, 28))\n",
        "\t# convert to array\n",
        "\timg = img_to_array(img)\n",
        "\t# reshape into a single sample with 1 channel\n",
        "\timg = img.reshape(1, 28, 28, 1)\n",
        "\t# prepare pixel data\n",
        "\timg = img.astype('float32')\n",
        "\timg = img / 255.0\n",
        "\treturn img\n",
        "\n",
        "# load an image and predict the class\n",
        "def run_example():\n",
        "\t# load the image\n",
        "\timg = load_image('seven.jpg')\n",
        "\t# load model\n",
        "\tmodel = load_model('terminators.hdf5')\n",
        "\t# predict the class\n",
        "\tdigit = model.predict_classes(img)\n",
        "\tprint(digit[0])\n",
        "  \n",
        "# entry point, run the example\n",
        "run_example()"
      ],
      "execution_count": 0,
      "outputs": []
    }
  ]
}